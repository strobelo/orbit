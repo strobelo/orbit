{
 "cells": [
  {
   "cell_type": "markdown",
   "metadata": {},
   "source": [
    "# PyTorch"
   ]
  },
  {
   "cell_type": "code",
   "execution_count": 1,
   "metadata": {
    "collapsed": true
   },
   "outputs": [],
   "source": [
    "import torch\n",
    "from torch.autograd import Variable\n",
    "import numpy as np\n",
    "import matplotlib.pyplot as plt\n",
    "import pandas as pd\n",
    "%matplotlib inline"
   ]
  },
  {
   "cell_type": "code",
   "execution_count": 28,
   "metadata": {
    "scrolled": false
   },
   "outputs": [
    {
     "name": "stdout",
     "output_type": "stream",
     "text": [
      "--2017-11-01 11:38:18--  http://archive.ics.uci.edu/ml/machine-learning-databases/00242/ENB2012_data.xlsx\n",
      "Resolving archive.ics.uci.edu (archive.ics.uci.edu)... 128.195.10.249\n",
      "Connecting to archive.ics.uci.edu (archive.ics.uci.edu)|128.195.10.249|:80... connected.\n",
      "HTTP request sent, awaiting response... 200 OK\n",
      "Length: 76189 (74K) [application/vnd.openxmlformats-officedocument.spreadsheetml.sheet]\n",
      "Saving to: ‘ENB2012_data.xlsx’\n",
      "\n",
      "ENB2012_data.xlsx   100%[===================>]  74.40K  --.-KB/s    in 0.1s    \n",
      "\n",
      "2017-11-01 11:38:18 (629 KB/s) - ‘ENB2012_data.xlsx’ saved [76189/76189]\n",
      "\n"
     ]
    }
   ],
   "source": [
    "!wget http://archive.ics.uci.edu/ml/machine-learning-databases/00242/ENB2012_data.xlsx"
   ]
  },
  {
   "cell_type": "code",
   "execution_count": 58,
   "metadata": {},
   "outputs": [
    {
     "name": "stdout",
     "output_type": "stream",
     "text": [
      "ENB2012_data.xlsx  forestfires.names  Untitled.ipynb\r\n",
      "forestfires.csv    Untitled1.ipynb\r\n"
     ]
    }
   ],
   "source": [
    "!ls"
   ]
  },
  {
   "cell_type": "code",
   "execution_count": 61,
   "metadata": {
    "collapsed": true
   },
   "outputs": [],
   "source": [
    "data = pd.read_csv('forestfires.csv').as_matrix()"
   ]
  },
  {
   "cell_type": "code",
   "execution_count": 62,
   "metadata": {
    "collapsed": true
   },
   "outputs": [],
   "source": [
    "dataD = np.delete(np.delete(data,2,axis=1), 2, axis=1).astype(np.dtype(float))"
   ]
  },
  {
   "cell_type": "code",
   "execution_count": 66,
   "metadata": {
    "collapsed": true
   },
   "outputs": [],
   "source": [
    "xn = dataD[:,:-2]\n",
    "m,s = np.mean(xn,axis=0), np.std(xn,axis=0)\n",
    "xn -= m\n",
    "xn /= s"
   ]
  },
  {
   "cell_type": "code",
   "execution_count": 67,
   "metadata": {
    "collapsed": true
   },
   "outputs": [],
   "source": [
    "yn = dataD[:,-2]\n",
    "m,s = np.mean(yn,axis=0), np.std(yn,axis=0)\n",
    "yn -= m\n",
    "yn /= s"
   ]
  },
  {
   "cell_type": "code",
   "execution_count": 91,
   "metadata": {
    "collapsed": true
   },
   "outputs": [],
   "source": [
    "x = Variable(torch.from_numpy(xn).type(torch.FloatTensor))\n",
    "y = Variable(torch.from_numpy(yn).type(torch.FloatTensor),requires_grad=False)"
   ]
  },
  {
   "cell_type": "code",
   "execution_count": 92,
   "metadata": {
    "collapsed": true
   },
   "outputs": [],
   "source": [
    "class Model(torch.nn.Module):\n",
    "    \n",
    "    def __init__(self,n,h,o):\n",
    "        super(Model, self).__init__()\n",
    "        self.mods = torch.nn.ModuleList([])\n",
    "        self.mods.append(torch.nn.Linear(n, h))\n",
    "        self.mods.append(torch.nn.ReLU())\n",
    "        self.mods.append(torch.nn.Tanh())\n",
    "        self.mods.append(torch.nn.ReLU())\n",
    "        self.mods.append(torch.nn.Tanh())\n",
    "        self.mods.append(torch.nn.ReLU())\n",
    "        self.mods.append(torch.nn.Linear(h,o))\n",
    "        \n",
    "    def forward(self, x):\n",
    "        #return self.fc(x) # it was just x there\n",
    "        for module in self.mods:\n",
    "            x = module(x)\n",
    "        return x"
   ]
  },
  {
   "cell_type": "code",
   "execution_count": 95,
   "metadata": {},
   "outputs": [
    {
     "name": "stdout",
     "output_type": "stream",
     "text": [
      "Trained in 9.658855676651001 seconds\n"
     ]
    },
    {
     "data": {
      "text/plain": [
       "[<matplotlib.lines.Line2D at 0x7fb5a1bfbf98>]"
      ]
     },
     "execution_count": 95,
     "metadata": {},
     "output_type": "execute_result"
    },
    {
     "data": {
      "image/png": "[encoded data removed]",
      "text/plain": [
       "<matplotlib.figure.Figure at 0x7fb5b8636b70>"
      ]
     },
     "metadata": {},
     "output_type": "display_data"
    }
   ],
   "source": [
    "# Code in file nn/two_layer_net_module.py\n",
    "import torch\n",
    "import time\n",
    "tstart = time.time()\n",
    "from torch.autograd import Variable\n",
    "\n",
    "# N is batch size; D_in is input dimension;\n",
    "# H is hidden dimension; D_out is output dimension.\n",
    "H, D_out = 500, 1\n",
    "use_cuda = True\n",
    "\n",
    "# Construct our model by instantiating the class defined above\n",
    "model = Model(x.size()[1],H,D_out)\n",
    "if torch.cuda.is_available() and use_cuda:\n",
    "    model = model.cuda()\n",
    "    x = x.type(torch.cuda.FloatTensor)\n",
    "    y = y.type(torch.cuda.FloatTensor)\n",
    "\n",
    "# Construct our loss function and an Optimizer. The call to model.parameters()\n",
    "# in the SGD constructor will contain the learnable parameters of the two\n",
    "# nn.Linear modules which are members of the model.\n",
    "criterion = torch.nn.MSELoss(size_average=False)\n",
    "optimizer = torch.optim.SGD(model.parameters(), lr=1e-4)\n",
    "lossTrace = []\n",
    "for t in range(6000):\n",
    "    # Forward pass: Compute predicted y by passing x to the model\n",
    "    y_pred = model(x)\n",
    "\n",
    "    # Compute and print loss\n",
    "    loss = criterion(y_pred, y)\n",
    "    lossTrace.append(loss.data[0])\n",
    "    #print(t, loss.data[0])\n",
    "\n",
    "    # Zero gradients, perform a backward pass, and update the weights.\n",
    "    optimizer.zero_grad()\n",
    "    loss.backward()\n",
    "    optimizer.step()\n",
    "    \n",
    "print('Trained in {} seconds'.format(time.time() - tstart))\n",
    "plt.plot(lossTrace)\n"
   ]
  },
  {
   "cell_type": "code",
   "execution_count": 96,
   "metadata": {},
   "outputs": [
    {
     "data": {
      "text/plain": [
       "[<matplotlib.lines.Line2D at 0x7fb5a1bd9a20>]"
      ]
     },
     "execution_count": 96,
     "metadata": {},
     "output_type": "execute_result"
    },
    {
     "data": {
      "image/png": "[encoded data removed]",
      "text/plain": [
       "<matplotlib.figure.Figure at 0x7fb5a1ba7518>"
      ]
     },
     "metadata": {},
     "output_type": "display_data"
    }
   ],
   "source": [
    "plt.plot(y.data.cpu().numpy())\n",
    "plt.plot(model(x).data.cpu().numpy())"
   ]
  },
  {
   "cell_type": "code",
   "execution_count": null,
   "metadata": {
    "collapsed": true
   },
   "outputs": [],
   "source": []
  }
 ],
 "metadata": {
  "kernelspec": {
   "display_name": "Python 3",
   "language": "python",
   "name": "python3"
  },
  "language_info": {
   "codemirror_mode": {
    "name": "ipython",
    "version": 3
   },
   "file_extension": ".py",
   "mimetype": "text/x-python",
   "name": "python",
   "nbconvert_exporter": "python",
   "pygments_lexer": "ipython3",
   "version": "3.6.3"
  }
 },
 "nbformat": 4,
 "nbformat_minor": 2
}
