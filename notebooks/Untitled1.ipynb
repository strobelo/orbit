{
 "cells": [
  {
   "cell_type": "code",
   "execution_count": 1,
   "metadata": {
    "collapsed": true
   },
   "outputs": [],
   "source": [
    "import torch\n",
    "import numpy as np\n",
    "import matplotlib.pyplot as np"
   ]
  },
  {
   "cell_type": "code",
   "execution_count": 2,
   "metadata": {
    "collapsed": true
   },
   "outputs": [],
   "source": [
    "class Model(torch.nn.Module):\n",
    "    \n",
    "    def __init__(self,n,h,o):\n",
    "        super(Model, self).__init__()\n",
    "        self.mods = torch.nn.ModuleList([])\n",
    "        self.mods.append(torch.nn.Linear(n, h))\n",
    "        self.mods.append(torch.nn.ReLU())\n",
    "        self.mods.append(torch.nn.Tanh())\n",
    "        self.mods.append(torch.nn.ReLU())\n",
    "        self.mods.append(torch.nn.Tanh())\n",
    "        self.mods.append(torch.nn.ReLU())\n",
    "        self.mods.append(torch.nn.Linear(h,o))\n",
    "        \n",
    "    def forward(self, x):\n",
    "        #return self.fc(x) # it was just x there\n",
    "        for module in self.mods:\n",
    "            x = module(x)\n",
    "        return x"
   ]
  },
  {
   "cell_type": "code",
   "execution_count": null,
   "metadata": {
    "collapsed": true
   },
   "outputs": [],
   "source": []
  }
 ],
 "metadata": {
  "kernelspec": {
   "display_name": "Python 3",
   "language": "python",
   "name": "python3"
  },
  "language_info": {
   "codemirror_mode": {
    "name": "ipython",
    "version": 3
   },
   "file_extension": ".py",
   "mimetype": "text/x-python",
   "name": "python",
   "nbconvert_exporter": "python",
   "pygments_lexer": "ipython3",
   "version": "3.6.3"
  }
 },
 "nbformat": 4,
 "nbformat_minor": 2
}
